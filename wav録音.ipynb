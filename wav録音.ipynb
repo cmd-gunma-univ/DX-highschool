{
  "cells": [
    {
      "cell_type": "markdown",
      "metadata": {
        "id": "view-in-github",
        "colab_type": "text"
      },
      "source": [
        "<a href=\"https://colab.research.google.com/github/cmd-gunma-univ/DX-highschool/blob/main/wav%E9%8C%B2%E9%9F%B3.ipynb\" target=\"_parent\"><img src=\"https://colab.research.google.com/assets/colab-badge.svg\" alt=\"Open In Colab\"/></a>"
      ]
    },
    {
      "cell_type": "markdown",
      "id": "a10a13c3-4f35-4e2a-bd76-3febf2e55cda",
      "metadata": {
        "id": "a10a13c3-4f35-4e2a-bd76-3febf2e55cda"
      },
      "source": [
        "# Sounddeviceを使った録音"
      ]
    },
    {
      "cell_type": "markdown",
      "id": "2439ce9d-ebfa-4b1c-8011-f9b5b2803364",
      "metadata": {
        "id": "2439ce9d-ebfa-4b1c-8011-f9b5b2803364"
      },
      "source": [
        "## カメラの接続と確認\n",
        "\n",
        "USBカメラを接続し、以下のコマンドで接続を確認してください。"
      ]
    },
    {
      "cell_type": "code",
      "execution_count": null,
      "id": "e170a064-205b-4f7e-be0c-cdc35c63711a",
      "metadata": {
        "id": "e170a064-205b-4f7e-be0c-cdc35c63711a"
      },
      "outputs": [],
      "source": [
        "import sounddevice as sd\n",
        "print(sd.query_devices())          # すべてのデバイス一覧\n",
        "print(\"Default device:\", sd.default.device)"
      ]
    },
    {
      "cell_type": "markdown",
      "id": "8eab15b5-8269-4772-8d1a-63193d314f0d",
      "metadata": {
        "id": "8eab15b5-8269-4772-8d1a-63193d314f0d"
      },
      "source": [
        "```\n",
        "> 1 C270 HD WEBCAM: USB Audio (hw:2,0), ALSA (1 in, 0 out)\n",
        "```\n",
        "\n",
        "例えば上記であったおきの説明：  \n",
        "1: sounddeviceでのデバイス番号  \n",
        "1 in: モノラル入力のマイク(ステレオの場合は2 in)"
      ]
    },
    {
      "cell_type": "markdown",
      "id": "e27e1358-716c-4452-98ff-3f1ea8b1e21c",
      "metadata": {
        "id": "e27e1358-716c-4452-98ff-3f1ea8b1e21c"
      },
      "source": [
        "## 録音\n",
        "以下でsounddeviceで5秒間wav録音を行います。  \n",
        "record.wavというファイル名で保存されます。  \n",
        "`device_in`の番号が異なる場合は置き換えてください。"
      ]
    },
    {
      "cell_type": "code",
      "execution_count": null,
      "id": "a3278306-ff68-4e2c-9e05-08ecd639d3fa",
      "metadata": {
        "id": "a3278306-ff68-4e2c-9e05-08ecd639d3fa"
      },
      "outputs": [],
      "source": [
        "import sounddevice as sd\n",
        "from scipy.io.wavfile import write\n",
        "\n",
        "fs = 48000         # ← サンプリングレートを48kHz\n",
        "duration = 5       # ← 5秒間録音する\n",
        "device_in = 1      # ← sounddeviceでのデバイス番号に置き換える\n",
        "\n",
        "sd.default.device = (None, device_in)\n",
        "print(\"録音開始...\")\n",
        "data = sd.rec(int(duration * fs), samplerate=fs, channels=1, dtype='int16')\n",
        "sd.wait()\n",
        "write(\"record.wav\", fs, data)\n",
        "print(\"✅ 保存しました：record.wav\")"
      ]
    },
    {
      "cell_type": "markdown",
      "id": "5ad56d2d-e41d-4084-9a68-37f08863cf4c",
      "metadata": {
        "id": "5ad56d2d-e41d-4084-9a68-37f08863cf4c"
      },
      "source": [
        "## 再生\n",
        "以下でrecord.wavの再生を行います。"
      ]
    },
    {
      "cell_type": "code",
      "execution_count": null,
      "id": "199cf47d-6424-41a5-b6ad-2b636fc7e8b6",
      "metadata": {
        "id": "199cf47d-6424-41a5-b6ad-2b636fc7e8b6"
      },
      "outputs": [],
      "source": [
        "import os\n",
        "from IPython.display import Audio\n",
        "\n",
        "if os.path.exists(\"record.wav\"):\n",
        "    display(Audio(\"record.wav\"))\n",
        "else:\n",
        "    print(\"record.wav が見つかりません\")"
      ]
    },
    {
      "cell_type": "markdown",
      "id": "42a4aba6-4270-435b-9035-987314035fcf",
      "metadata": {
        "id": "42a4aba6-4270-435b-9035-987314035fcf"
      },
      "source": [
        "## FFT変換と結果のグラフ表示"
      ]
    },
    {
      "cell_type": "code",
      "execution_count": null,
      "id": "e598ed38-84a5-4fee-9dd7-3c6c8c686602",
      "metadata": {
        "id": "e598ed38-84a5-4fee-9dd7-3c6c8c686602"
      },
      "outputs": [],
      "source": [
        "import numpy as np\n",
        "import matplotlib.pyplot as plt\n",
        "from scipy.io import wavfile\n",
        "\n",
        "# === WAV 読み込み ===\n",
        "fs, data = wavfile.read(\"record.wav\")  # 読み込み\n",
        "print(\"Sampling rate:\", fs)\n",
        "print(\"Shape:\", data.shape)\n",
        "\n",
        "# ステレオの場合 → モノラル化（左右平均）\n",
        "if len(data.shape) == 2:\n",
        "    data = data.mean(axis=1)\n",
        "\n",
        "# 正規化（オプション）\n",
        "data = data / np.max(np.abs(data))\n",
        "\n",
        "# === FFT ===\n",
        "N = len(data)  # 総サンプル数\n",
        "fft_data = np.fft.fft(data)\n",
        "fft_data = np.abs(fft_data)[:N//2]  # 片側のみ（実信号なので）\n",
        "\n",
        "# === 周波数軸の作成 ===\n",
        "freqs = np.fft.fftfreq(N, 1/fs)[:N//2]\n",
        "\n",
        "# === プロット ===\n",
        "plt.figure(figsize=(12, 6))\n",
        "plt.plot(freqs, fft_data)\n",
        "plt.title(\"FFT Spectrum of record.wav\")\n",
        "plt.xlabel(\"Frequency [Hz]\")\n",
        "plt.ylabel(\"Amplitude\")\n",
        "plt.grid()\n",
        "plt.xlim(0, fs/2)  # ナイキスト周波数まで表示\n",
        "plt.show()\n"
      ]
    },
    {
      "cell_type": "code",
      "execution_count": null,
      "id": "90c075be-a819-4055-bb67-5ed11d892d29",
      "metadata": {
        "id": "90c075be-a819-4055-bb67-5ed11d892d29"
      },
      "outputs": [],
      "source": []
    }
  ],
  "metadata": {
    "kernelspec": {
      "display_name": "Python 3 (ipykernel)",
      "language": "python",
      "name": "python3"
    },
    "language_info": {
      "codemirror_mode": {
        "name": "ipython",
        "version": 3
      },
      "file_extension": ".py",
      "mimetype": "text/x-python",
      "name": "python",
      "nbconvert_exporter": "python",
      "pygments_lexer": "ipython3",
      "version": "3.11.2"
    },
    "colab": {
      "provenance": [],
      "include_colab_link": true
    }
  },
  "nbformat": 4,
  "nbformat_minor": 5
}