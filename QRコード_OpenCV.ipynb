{
  "cells": [
    {
      "cell_type": "markdown",
      "metadata": {
        "id": "view-in-github",
        "colab_type": "text"
      },
      "source": [
        "<a href=\"https://colab.research.google.com/github/cmd-gunma-univ/DX-highschool/blob/main/QR%E3%82%B3%E3%83%BC%E3%83%88%E3%82%99_OpenCV.ipynb\" target=\"_parent\"><img src=\"https://colab.research.google.com/assets/colab-badge.svg\" alt=\"Open In Colab\"/></a>"
      ]
    },
    {
      "cell_type": "code",
      "execution_count": null,
      "id": "7c0e351d-4392-4ba6-a1fd-03f2f139ab55",
      "metadata": {
        "id": "7c0e351d-4392-4ba6-a1fd-03f2f139ab55"
      },
      "outputs": [],
      "source": [
        "import cv2\n",
        "from IPython.display import display, Image, clear_output\n",
        "import time\n",
        "\n",
        "cap = cv2.VideoCapture(0)\n",
        "detector = cv2.QRCodeDetector()\n",
        "\n",
        "final_frame = None\n",
        "detected_data = None\n",
        "\n",
        "try:\n",
        "    while True:\n",
        "        ret, frame = cap.read()\n",
        "        if not ret:\n",
        "            print(\"カメラが検出されません。\")\n",
        "            break\n",
        "\n",
        "        data, bbox, _ = detector.detectAndDecode(frame)\n",
        "\n",
        "        if data:\n",
        "            detected_data = data\n",
        "            print(\"✅ QRコード検出:\", data)\n",
        "\n",
        "            if bbox is not None:\n",
        "                bbox = bbox.astype(int)\n",
        "                for i in range(len(bbox[0])):\n",
        "                    cv2.line(frame, tuple(bbox[0][i]),\n",
        "                             tuple(bbox[0][(i + 1) % len(bbox[0])]),\n",
        "                             (0, 255, 0), 2)\n",
        "            final_frame = frame.copy()  # 検出時の画像を保存\n",
        "            break  # ← 検出したらループ終了\n",
        "\n",
        "        _, img_jpg = cv2.imencode('.jpg', frame)\n",
        "        clear_output(wait=True)\n",
        "        display(Image(data=img_jpg.tobytes()))\n",
        "        time.sleep(0.1)\n",
        "\n",
        "except KeyboardInterrupt:\n",
        "    print(\"⏹ 手動で終了しました。\")\n",
        "\n",
        "cap.release()\n",
        "print(\"📸 カメラを解放しました。\")\n",
        "\n",
        "# --- 結果を表示 ---\n",
        "if final_frame is not None:\n",
        "    print(\"✅ 認識結果:\", detected_data)\n",
        "    _, img_jpg = cv2.imencode('.jpg', final_frame)\n",
        "    display(Image(data=img_jpg.tobytes()))\n",
        "else:\n",
        "    print(\"⚠️ QRコードは検出されませんでした。\")"
      ]
    },
    {
      "cell_type": "code",
      "execution_count": null,
      "id": "fc8c30ef-671a-471e-9b3e-e4efa74d482c",
      "metadata": {
        "id": "fc8c30ef-671a-471e-9b3e-e4efa74d482c"
      },
      "outputs": [],
      "source": [
        "#qrcodeライブラリのインストール\n",
        "!pip install qrcode[pil] --break-system-packages --no-cache-dir"
      ]
    },
    {
      "cell_type": "code",
      "execution_count": null,
      "id": "c301decb-196a-4a59-a0e9-cdafa6ac5f7b",
      "metadata": {
        "id": "c301decb-196a-4a59-a0e9-cdafa6ac5f7b"
      },
      "outputs": [],
      "source": [
        "#QRコードを作成するコード\n",
        "import qrcode\n",
        "from qrcode.constants import ERROR_CORRECT_M\n",
        "from IPython.display import display\n",
        "\n",
        "data = \"桐生清桜高校\"\n",
        "\n",
        "qr = qrcode.QRCode(\n",
        "    version=None,                 # 自動調整（1〜40にしたい場合は数値）\n",
        "    error_correction=ERROR_CORRECT_M,  # 誤り訂正(L/M/Q/H)\n",
        "    box_size=10,                  # ドットの大きさ\n",
        "    border=4                      # 余白（推奨4以上）\n",
        ")\n",
        "qr.add_data(data)\n",
        "qr.make(fit=True)\n",
        "\n",
        "img = qr.make_image(fill_color=\"black\", back_color=\"white\")\n",
        "#img.save(\"qrcode_custom.png\")\n",
        "#print(\"保存しました：qrcode_custom.png\")\n",
        "display(img)"
      ]
    },
    {
      "cell_type": "code",
      "execution_count": null,
      "id": "ee479b25-cf93-4e24-a4cd-1f22e3eba583",
      "metadata": {
        "id": "ee479b25-cf93-4e24-a4cd-1f22e3eba583"
      },
      "outputs": [],
      "source": []
    }
  ],
  "metadata": {
    "kernelspec": {
      "display_name": "Python 3 (ipykernel)",
      "language": "python",
      "name": "python3"
    },
    "language_info": {
      "codemirror_mode": {
        "name": "ipython",
        "version": 3
      },
      "file_extension": ".py",
      "mimetype": "text/x-python",
      "name": "python",
      "nbconvert_exporter": "python",
      "pygments_lexer": "ipython3",
      "version": "3.11.2"
    },
    "colab": {
      "provenance": [],
      "include_colab_link": true
    }
  },
  "nbformat": 4,
  "nbformat_minor": 5
}