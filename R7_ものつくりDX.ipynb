{
  "nbformat": 4,
  "nbformat_minor": 0,
  "metadata": {
    "colab": {
      "provenance": [],
      "include_colab_link": true
    },
    "kernelspec": {
      "name": "python3",
      "display_name": "Python 3"
    },
    "language_info": {
      "name": "python"
    }
  },
  "cells": [
    {
      "cell_type": "markdown",
      "metadata": {
        "id": "view-in-github",
        "colab_type": "text"
      },
      "source": [
        "<a href=\"https://colab.research.google.com/github/cmd-gunma-univ/DX-highschool/blob/main/R7_%E3%82%82%E3%81%AE%E3%81%A4%E3%81%8F%E3%82%8ADX.ipynb\" target=\"_parent\"><img src=\"https://colab.research.google.com/assets/colab-badge.svg\" alt=\"Open In Colab\"/></a>"
      ]
    },
    {
      "cell_type": "markdown",
      "source": [
        "# シラバス\n",
        "ラズベリーパイを用いたスマートホームの作成を通して，カメラやセンサなどのコンピュータ制御，ネットワーク，機械学習についての体験的な学びを行い，情報技術を活用した問題発見・解決の探究を行うことを目的とする。\n",
        "\n",
        "## 1回目：[ガイダンス](https://colab.research.google.com/github/cmd-gunma-univ/DX-highschool/blob/main/%E3%82%82%E3%81%AE%E3%81%A4%E3%81%8F%E3%82%8ADX1.ipynb)\n",
        "**Key**: コンピュータ制御，デジタル，機械学習\n",
        "- **授業の目的**\n",
        "\n",
        " ラズベリーパイを使って\n",
        " - デジタル制御を理解する\n",
        " - 機械学習の基礎を理解する\n",
        "- **ゴール**\n",
        " - オリジナル作品の製作\n",
        " - 「すうりDX」への活用\n",
        "\n",
        "## 2回目：[Python基礎](https://colab.research.google.com/github/cmd-gunma-univ/DX-highschool/blob/main/%E3%82%82%E3%81%AE%E3%81%A4%E3%81%8F%E3%82%8ADX2.ipynb)\n",
        "**Key**: Python，Colaboratory，生成AI\n",
        "- Pythonの基本的な文法を理解する。\n",
        "- Google ColabのGeminiを用いることで，Pythonを読み書きできるようになる。\n",
        "\n",
        "## 3回目：[ラズベリーパイの基本操作](https://colab.research.google.com/github/cmd-gunma-univ/DX-highschool/blob/main/%E3%82%82%E3%81%AE%E3%81%A4%E3%81%8F%E3%82%8ADX3.ipynb)\n",
        "**Key**: ネットワーク，Jupyter，Wi-Fi\n",
        "- PC端末からラズベリーパイ(RP)へのWi-Fi接続を通してネットワークの基礎を学ぶ。\n",
        "- Jupyter labを用いたRPの制御を学ぶ。\n",
        "\n",
        "\n",
        "## 4回目：[GPIO出力基礎](https://colab.research.google.com/github/cmd-gunma-univ/DX-highschool/blob/main/%E3%82%82%E3%81%AE%E3%81%A4%E3%81%8F%E3%82%8ADX4.ipynb)\n",
        "**Key**: LED, GPIO, PWM\n",
        "- Lチカにより0/1の発信制御を行う。\n",
        "- 0と1の間を表現する方法となるPWMを学ぶ。(LEDとサーボを使用)\n",
        "\n",
        "## 5回目： [デジタル通信の基礎](https://colab.research.google.com/github/cmd-gunma-univ/DX-highschool/blob/main/%E3%82%82%E3%81%AE%E3%81%A4%E3%81%8F%E3%82%8ADX5.ipynb)\n",
        "**Key**: 通信，パラレル，シリアル，同期式，非同期式，I2C, SPI\n",
        "- パラレル通信とシリアル通信の違いを学ぶ\n",
        "- シリアル通信におけるクロックの役割を学ぶ\n",
        "- I2C, SPIの違いを学ぶ\n",
        "\n",
        "## 6回目：その他のセンサ\n",
        "\n",
        "\n",
        "## 7回目：画像におけるデジタル基礎\n",
        "\n",
        "## 8回目：機械学習１(パーセプトロン)\n",
        "\n",
        "## 9回目：機械学習２(多層パーセプトロン)\n",
        "\n",
        "## 10回目：機械学習３(CNN)"
      ],
      "metadata": {
        "id": "1CGvzNNfsvER"
      }
    },
    {
      "cell_type": "code",
      "source": [],
      "metadata": {
        "id": "v8epv5AOx_LJ"
      },
      "execution_count": null,
      "outputs": []
    }
  ]
}