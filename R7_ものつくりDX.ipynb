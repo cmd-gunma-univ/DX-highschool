{
  "nbformat": 4,
  "nbformat_minor": 0,
  "metadata": {
    "colab": {
      "provenance": [],
      "include_colab_link": true
    },
    "kernelspec": {
      "name": "python3",
      "display_name": "Python 3"
    },
    "language_info": {
      "name": "python"
    }
  },
  "cells": [
    {
      "cell_type": "markdown",
      "metadata": {
        "id": "view-in-github",
        "colab_type": "text"
      },
      "source": [
        "<a href=\"https://colab.research.google.com/github/cmd-gunma-univ/DX-highschool/blob/main/R7_%E3%82%82%E3%81%AE%E3%81%A4%E3%81%8F%E3%82%8ADX.ipynb\" target=\"_parent\"><img src=\"https://colab.research.google.com/assets/colab-badge.svg\" alt=\"Open In Colab\"/></a>"
      ]
    },
    {
      "cell_type": "markdown",
      "source": [
        "# シラバス\n",
        "ラズベリーパイを用いたスマートホームの作成を通して，カメラやセンサなどのコンピュータ制御，ネットワーク，機械学習についての体験的な学びを行い，情報技術を活用した問題発見・解決の探究を行うことを目的とする。\n",
        "\n",
        "## 1回目：[ガイダンス](https://colab.research.google.com/github/cmd-gunma-univ/DX-highschool/blob/main/%E3%82%82%E3%81%AE%E3%81%A4%E3%81%8F%E3%82%8ADX1.ipynb)\n",
        "**Key**: コンピュータ制御，デジタル，機械学習\n",
        "- **授業の目的**\n",
        "\n",
        " ラズベリーパイを使って\n",
        " - デジタル制御を理解する\n",
        " - 機械学習の基礎を理解する\n",
        "- **ゴール**\n",
        " - オリジナル作品の製作\n",
        " - 「すうりDX」への活用\n",
        "\n",
        "## 2回目：[Python基礎](https://colab.research.google.com/github/cmd-gunma-univ/DX-highschool/blob/main/%E3%82%82%E3%81%AE%E3%81%A4%E3%81%8F%E3%82%8ADX2.ipynb)\n",
        "**Key**: Python，Colaboratory，生成AI\n",
        "- Pythonの基本的な文法を理解する。\n",
        "- Google ColabのGeminiを用いることで，Pythonを読み書きできるようになる。\n",
        "\n",
        "## 3回目：[ラズベリーパイの基本操作](https://colab.research.google.com/github/cmd-gunma-univ/DX-highschool/blob/main/%E3%82%82%E3%81%AE%E3%81%A4%E3%81%8F%E3%82%8ADX3.ipynb)\n",
        "**Key**: ネットワーク，Jupyter，Wi-Fi\n",
        "- PC端末からラズベリーパイ(RP)へのWi-Fi接続を通してネットワークの基礎を学ぶ。\n",
        "- Jupyter labを用いたRPの制御を学ぶ。\n",
        "\n",
        "\n",
        "## 4回目：GPIO出力基礎\n",
        "**Key**: LED, GPIO, PWM\n",
        "- Lチカにより0/1の発信制御を行う。\n",
        "- 0と1の間を表現する方法となるPWMを学ぶ。(LEDとサーボを使用)\n",
        "- 補足資料：Lチカでの0/1発信のIoT利用例として，家電のリモコン制御を学ぶ。\n",
        "\n",
        "## 5回目： デジタル通信の基礎\n",
        "\n",
        "## 6回目：その他のセンサ\n",
        "\n",
        "\n",
        "## 7回目：画像におけるデジタル基礎\n",
        "\n",
        "## 8回目：機械学習１(パーセプトロン)\n",
        "\n",
        "## 9回目：機械学習２(多層パーセプトロン)\n",
        "\n",
        "## 10回目：機械学習３(CNN)"
      ],
      "metadata": {
        "id": "1CGvzNNfsvER"
      }
    },
    {
      "cell_type": "code",
      "source": [],
      "metadata": {
        "id": "Qyw4Poojs1_U"
      },
      "execution_count": null,
      "outputs": []
    },
    {
      "cell_type": "markdown",
      "source": [
        "# インストール"
      ],
      "metadata": {
        "id": "FMjuX4ep6sV_"
      }
    },
    {
      "cell_type": "markdown",
      "source": [
        "- ```Raspberry Pi Imager v1.8.5```からRapspberry Pi 5用の64-bit OSをインストール\n",
        "    - ホスト名：rp2\n",
        "    - MACアドレス：2c:cf:67:17:dc:55\n",
        "    - IPアドレス：192.168.1.2\n",
        "    - ユーザー名：pi\n",
        "    - パスワード：dx-school\n",
        "    - SSID: GUsuri\n",
        "    - WPA2のパスワード：GU_suuri\n",
        "    - SPI, I2C，SSHをON"
      ],
      "metadata": {
        "id": "74TW6Q3Q7Cmi"
      }
    },
    {
      "cell_type": "markdown",
      "source": [],
      "metadata": {
        "id": "QvmAgf2CB8yp"
      }
    },
    {
      "cell_type": "code",
      "source": [],
      "metadata": {
        "id": "SZRNcR_D6uKm"
      },
      "execution_count": null,
      "outputs": []
    }
  ]
}