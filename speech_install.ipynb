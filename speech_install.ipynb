{
  "nbformat": 4,
  "nbformat_minor": 0,
  "metadata": {
    "colab": {
      "provenance": [],
      "include_colab_link": true
    },
    "kernelspec": {
      "name": "python3",
      "display_name": "Python 3"
    },
    "language_info": {
      "name": "python"
    }
  },
  "cells": [
    {
      "cell_type": "markdown",
      "metadata": {
        "id": "view-in-github",
        "colab_type": "text"
      },
      "source": [
        "<a href=\"https://colab.research.google.com/github/cmd-gunma-univ/DX-highschool/blob/main/speech_install.ipynb\" target=\"_parent\"><img src=\"https://colab.research.google.com/assets/colab-badge.svg\" alt=\"Open In Colab\"/></a>"
      ]
    },
    {
      "cell_type": "markdown",
      "source": [
        "#音声認識に必要なもののライブラリ\n"
      ],
      "metadata": {
        "id": "JipQMx3LWV8w"
      }
    },
    {
      "cell_type": "code",
      "source": [
        "! git clone --depth 1 https://github.com/cmd-gunma-univ/DX-highschool.git\n",
        "%cd DX-highschool\n",
        "! bash -O extglob -c 'rm -rf !(speech)'"
      ],
      "metadata": {
        "id": "bDJ-i3AzX1o_"
      },
      "execution_count": null,
      "outputs": []
    },
    {
      "cell_type": "markdown",
      "source": [
        "## インストール"
      ],
      "metadata": {
        "id": "XhthJfvHZvzc"
      }
    },
    {
      "cell_type": "code",
      "source": [
        "%cd speech/\n",
        "!bash speech_install.sh"
      ],
      "metadata": {
        "id": "aagLGPq9XwlP"
      },
      "execution_count": null,
      "outputs": []
    }
  ]
}