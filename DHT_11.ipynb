{
  "cells": [
    {
      "cell_type": "markdown",
      "metadata": {
        "id": "view-in-github",
        "colab_type": "text"
      },
      "source": [
        "<a href=\"https://colab.research.google.com/github/cmd-gunma-univ/DX-highschool/blob/main/DHT_11.ipynb\" target=\"_parent\"><img src=\"https://colab.research.google.com/assets/colab-badge.svg\" alt=\"Open In Colab\"/></a>"
      ]
    },
    {
      "cell_type": "code",
      "execution_count": null,
      "id": "588b6ea8-0390-4e5b-b1de-aba661b8d6d6",
      "metadata": {
        "id": "588b6ea8-0390-4e5b-b1de-aba661b8d6d6"
      },
      "outputs": [],
      "source": [
        "!pinout"
      ]
    },
    {
      "cell_type": "markdown",
      "id": "baaf1908-c3f5-4488-b576-5de84d28b967",
      "metadata": {
        "id": "baaf1908-c3f5-4488-b576-5de84d28b967"
      },
      "source": [
        "＋  白   3.3V     (1)    \n",
        "out 黒   GPIO14 (8)   \n",
        "➖  茶色 GND     (9)"
      ]
    },
    {
      "cell_type": "code",
      "execution_count": null,
      "id": "48ff2297-bfd9-4c7b-970f-0c6a806f3d8f",
      "metadata": {
        "id": "48ff2297-bfd9-4c7b-970f-0c6a806f3d8f",
        "outputId": "61ecd01e-cbbc-41fc-8cd4-37d67b7330df"
      },
      "outputs": [
        {
          "name": "stdout",
          "output_type": "stream",
          "text": [
            "dtoverlay=dht11,gpiopin=14\n"
          ]
        }
      ],
      "source": [
        "# config.txtに追記\n",
        "!echo \"dtoverlay=dht11,gpiopin=14\" | sudo tee -a /boot/firmware/config.txt"
      ]
    },
    {
      "cell_type": "code",
      "execution_count": null,
      "id": "ae36914e-7e3b-4e38-a443-e52197032f88",
      "metadata": {
        "id": "ae36914e-7e3b-4e38-a443-e52197032f88",
        "outputId": "f30f62d3-cccc-4dda-a7cf-ad36d21b51f1"
      },
      "outputs": [
        {
          "name": "stdout",
          "output_type": "stream",
          "text": [
            "[cm5]\n",
            "dtoverlay=dwc2,dr_mode=host\n",
            "\n",
            "[all]\n",
            "dtoverlay=dht11,gpiopin=14\n"
          ]
        }
      ],
      "source": [
        "# 追記を確認\n",
        "!tail -n 5 /boot/firmware/config.txt"
      ]
    },
    {
      "cell_type": "code",
      "execution_count": null,
      "id": "9fa123cf-365f-4fb3-93a5-a1f002cc876f",
      "metadata": {
        "id": "9fa123cf-365f-4fb3-93a5-a1f002cc876f"
      },
      "outputs": [],
      "source": [
        "# 再起動\n",
        "! sudo reboot"
      ]
    },
    {
      "cell_type": "code",
      "execution_count": null,
      "id": "baf8b9af-9a4f-4e51-a062-0ee8c85f2a52",
      "metadata": {
        "id": "baf8b9af-9a4f-4e51-a062-0ee8c85f2a52"
      },
      "outputs": [],
      "source": [
        "# 2秒に一回読み取るコマンド\n",
        "import time\n",
        "\n",
        "device0 = \"/sys/bus/iio/devices/iio:device0\"\n",
        "\n",
        "# ファイルの先頭行を読み取って整数値を返す関数\n",
        "def readFirstLine(filename):\n",
        "    try:\n",
        "        f = open(filename,\"rt\")\n",
        "        value = int(f.readline())\n",
        "        f.close()\n",
        "        return True, value\n",
        "    except ValueError:\n",
        "        f.close()\n",
        "        return False, -1\n",
        "    except OSError:\n",
        "        return False, 0\n",
        "\n",
        "try:\n",
        "    while True:\n",
        "        # 温度を取得\n",
        "        Flag, Temperature = readFirstLine(device0 + \"/in_temp_input\")\n",
        "        print(\"Temperature:\", end=\"\")\n",
        "        if Flag:\n",
        "            print(Temperature // 1000, \"℃\", end=\"\\t\")\n",
        "        else:\n",
        "            print(\"N.A.\", end=\"\\t\")\n",
        "\n",
        "        # 湿度を取得\n",
        "        Flag, Humidity = readFirstLine(device0 + \"/in_humidityrelative_input\")\n",
        "        print(\"Humidity:\", end=\"\")\n",
        "        if Flag:\n",
        "            print(Humidity // 1000, \"%\")\n",
        "        else:\n",
        "            print(\"N.A.\")\n",
        "\n",
        "        time.sleep(2.0)\n",
        "except KeyboardInterrupt:\n",
        "    pass\n",
        "\n"
      ]
    },
    {
      "cell_type": "code",
      "execution_count": null,
      "id": "7bb6c720-907a-42bb-986d-923a1686ca41",
      "metadata": {
        "id": "7bb6c720-907a-42bb-986d-923a1686ca41"
      },
      "outputs": [],
      "source": [
        "import time\n",
        "import matplotlib.pyplot as plt\n",
        "from IPython.display import clear_output\n",
        "from collections import deque\n",
        "\n",
        "device0 = \"/sys/bus/iio/devices/iio:device0\"\n",
        "\n",
        "# --- 値読み取り関数 ---\n",
        "def readFirstLine(filename):\n",
        "    try:\n",
        "        with open(filename, \"rt\") as f:\n",
        "            value = int(f.readline())\n",
        "        return True, value\n",
        "    except (ValueError, OSError):\n",
        "        return False, 0\n",
        "\n",
        "# --- データ保持 ---\n",
        "max_points = 60  # 最新60点を表示\n",
        "times = deque(maxlen=max_points)\n",
        "temps = deque(maxlen=max_points)\n",
        "hums = deque(maxlen=max_points)\n",
        "\n",
        "start_time = time.time()\n",
        "\n",
        "# --- グラフ設定 ---\n",
        "plt.rcParams[\"figure.figsize\"] = (8, 4)\n",
        "\n",
        "try:\n",
        "    for i in range(100):  # ループ回数を制限（例：100回 ≒ 3分程度）\n",
        "        now = time.time() - start_time\n",
        "\n",
        "        # 温度\n",
        "        Flag, Temperature = readFirstLine(device0 + \"/in_temp_input\")\n",
        "        Temperature = Temperature / 1000.0 if Flag else None\n",
        "\n",
        "        # 湿度\n",
        "        Flag, Humidity = readFirstLine(device0 + \"/in_humidityrelative_input\")\n",
        "        Humidity = Humidity / 1000.0 if Flag else None\n",
        "\n",
        "        times.append(now)\n",
        "        temps.append(Temperature)\n",
        "        hums.append(Humidity)\n",
        "\n",
        "        # --- グラフ描画 ---\n",
        "        clear_output(wait=True)\n",
        "        fig, ax1 = plt.subplots()\n",
        "        ax2 = ax1.twinx()\n",
        "\n",
        "        ax1.plot(times, temps, color='tab:red', label='Temperature (°C)')\n",
        "        ax2.plot(times, hums, color='tab:blue', label='Humidity (%)')\n",
        "\n",
        "        ax1.set_xlabel(\"Time [s]\")\n",
        "        ax1.set_ylabel(\"Temperature [°C]\", color='tab:red')\n",
        "        ax2.set_ylabel(\"Humidity [%]\", color='tab:blue')\n",
        "        ax1.set_title(\"Real-time Temperature & Humidity\")\n",
        "\n",
        "        plt.show()\n",
        "\n",
        "        time.sleep(2.0)  # 2秒ごとに更新\n",
        "\n",
        "except KeyboardInterrupt:\n",
        "    print(\"⏹ 中断しました。\")"
      ]
    },
    {
      "cell_type": "code",
      "execution_count": null,
      "id": "be074fdb-b5b5-4e9f-ad3a-e5b3e2c9e1cc",
      "metadata": {
        "id": "be074fdb-b5b5-4e9f-ad3a-e5b3e2c9e1cc"
      },
      "outputs": [],
      "source": []
    }
  ],
  "metadata": {
    "kernelspec": {
      "display_name": "Python 3 (ipykernel)",
      "language": "python",
      "name": "python3"
    },
    "language_info": {
      "codemirror_mode": {
        "name": "ipython",
        "version": 3
      },
      "file_extension": ".py",
      "mimetype": "text/x-python",
      "name": "python",
      "nbconvert_exporter": "python",
      "pygments_lexer": "ipython3",
      "version": "3.11.2"
    },
    "colab": {
      "provenance": [],
      "include_colab_link": true
    }
  },
  "nbformat": 4,
  "nbformat_minor": 5
}