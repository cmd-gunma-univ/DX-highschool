{
  "nbformat": 4,
  "nbformat_minor": 0,
  "metadata": {
    "colab": {
      "provenance": [],
      "authorship_tag": "ABX9TyPhwbJLEUOXgenJvmKb/2/l",
      "include_colab_link": true
    },
    "kernelspec": {
      "name": "python3",
      "display_name": "Python 3"
    },
    "language_info": {
      "name": "python"
    }
  },
  "cells": [
    {
      "cell_type": "markdown",
      "metadata": {
        "id": "view-in-github",
        "colab_type": "text"
      },
      "source": [
        "<a href=\"https://colab.research.google.com/github/cmd-gunma-univ/DX-highschool/blob/main/%E3%82%82%E3%81%AE%E3%81%A4%E3%81%8F%E3%82%8ADX.ipynb\" target=\"_parent\"><img src=\"https://colab.research.google.com/assets/colab-badge.svg\" alt=\"Open In Colab\"/></a>"
      ]
    },
    {
      "cell_type": "markdown",
      "source": [
        "# デジタル基礎"
      ],
      "metadata": {
        "id": "Z_o7WRDjwDtB"
      }
    },
    {
      "cell_type": "markdown",
      "source": [
        "---\n",
        "# ネットワーク基礎"
      ],
      "metadata": {
        "id": "7GGNMmdOwy6a"
      }
    },
    {
      "cell_type": "markdown",
      "source": [
        "---\n",
        "# AI基礎"
      ],
      "metadata": {
        "id": "mSaPMJ10ynRN"
      }
    },
    {
      "cell_type": "markdown",
      "source": [
        "---\n",
        "#FAQ"
      ],
      "metadata": {
        "id": "A1YiW6rWy3GN"
      }
    }
  ]
}