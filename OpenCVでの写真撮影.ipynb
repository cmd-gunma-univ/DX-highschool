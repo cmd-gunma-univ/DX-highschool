{
  "cells": [
    {
      "cell_type": "markdown",
      "metadata": {
        "id": "view-in-github",
        "colab_type": "text"
      },
      "source": [
        "<a href=\"https://colab.research.google.com/github/cmd-gunma-univ/DX-highschool/blob/main/OpenCV%E3%81%A7%E3%81%AE%E5%86%99%E7%9C%9F%E6%92%AE%E5%BD%B1.ipynb\" target=\"_parent\"><img src=\"https://colab.research.google.com/assets/colab-badge.svg\" alt=\"Open In Colab\"/></a>"
      ]
    },
    {
      "cell_type": "code",
      "execution_count": null,
      "id": "5d4fbe49-ad90-440a-b53c-dfb7b650cead",
      "metadata": {
        "id": "5d4fbe49-ad90-440a-b53c-dfb7b650cead"
      },
      "outputs": [],
      "source": [
        "# 写真を撮る\n",
        "import cv2\n",
        "from IPython.display import Image, display\n",
        "\n",
        "cap = cv2.VideoCapture(0)  # USBカメラ: /dev/video0\n",
        "cap.set(cv2.CAP_PROP_FRAME_WIDTH, 1280)   # 任意\n",
        "cap.set(cv2.CAP_PROP_FRAME_HEIGHT, 720)   # 任意\n",
        "\n",
        "ok, frame = cap.read()\n",
        "cap.release()\n",
        "\n",
        "if not ok:\n",
        "    raise RuntimeError(\"カメラからフレームを取得できませんでした\")\n",
        "\n",
        "# 画像を保存\n",
        "fname = \"photo.jpg\"\n",
        "cv2.imwrite(fname, frame)\n",
        "\n",
        "# Notebookに表示\n",
        "display(Image(filename=fname))\n",
        "print(\"保存:\", fname)"
      ]
    },
    {
      "cell_type": "code",
      "execution_count": null,
      "id": "4eda4187-9a17-4eec-b3ed-b04696528b83",
      "metadata": {
        "id": "4eda4187-9a17-4eec-b3ed-b04696528b83"
      },
      "outputs": [],
      "source": []
    }
  ],
  "metadata": {
    "kernelspec": {
      "display_name": "Python 3 (ipykernel)",
      "language": "python",
      "name": "python3"
    },
    "language_info": {
      "codemirror_mode": {
        "name": "ipython",
        "version": 3
      },
      "file_extension": ".py",
      "mimetype": "text/x-python",
      "name": "python",
      "nbconvert_exporter": "python",
      "pygments_lexer": "ipython3",
      "version": "3.11.2"
    },
    "colab": {
      "provenance": [],
      "include_colab_link": true
    }
  },
  "nbformat": 4,
  "nbformat_minor": 5
}