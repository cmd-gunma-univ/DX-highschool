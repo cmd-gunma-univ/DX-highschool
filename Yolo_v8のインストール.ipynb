{
  "nbformat": 4,
  "nbformat_minor": 0,
  "metadata": {
    "colab": {
      "provenance": [],
      "authorship_tag": "ABX9TyMvLaiIvkbbEH0cNMwn4Wpf",
      "include_colab_link": true
    },
    "kernelspec": {
      "name": "python3",
      "display_name": "Python 3"
    },
    "language_info": {
      "name": "python"
    }
  },
  "cells": [
    {
      "cell_type": "markdown",
      "metadata": {
        "id": "view-in-github",
        "colab_type": "text"
      },
      "source": [
        "<a href=\"https://colab.research.google.com/github/cmd-gunma-univ/DX-highschool/blob/main/Yolo_v8%E3%81%AE%E3%82%A4%E3%83%B3%E3%82%B9%E3%83%88%E3%83%BC%E3%83%AB.ipynb\" target=\"_parent\"><img src=\"https://colab.research.google.com/assets/colab-badge.svg\" alt=\"Open In Colab\"/></a>"
      ]
    },
    {
      "cell_type": "code",
      "execution_count": null,
      "metadata": {
        "id": "HLHJz1ffB-nk"
      },
      "outputs": [],
      "source": [
        "# DXハイスクールの教材をダウンロード\n",
        "%cd ~/\n",
        "! git clone https://github.com/cmd-gunma-univ/DX-highschool.git\n",
        "%cd DX-highschool\n",
        "! mv yolo_2025 ~/\n",
        "%cd ~\n",
        "! rm -rf DX-highschool"
      ]
    },
    {
      "cell_type": "code",
      "source": [
        "# yolo_2025/yolo_install.shからインストール\n",
        "!bash ./yolo_2025/yolo_install.sh"
      ],
      "metadata": {
        "id": "xRqYpaA9CFd8"
      },
      "execution_count": null,
      "outputs": []
    }
  ]
}