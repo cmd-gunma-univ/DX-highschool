{
 "cells": [
  {
   "cell_type": "markdown",
   "id": "4cc9991e-6f79-4358-bd4a-761216833fe1",
   "metadata": {},
   "source": [
    "# Yolo v8のインストール"
   ]
  },
  {
   "cell_type": "code",
   "execution_count": null,
   "id": "b685e4d6-0222-483d-a403-e2c20bee4e86",
   "metadata": {},
   "outputs": [],
   "source": [
    "# DXハイスクールの教材をダウンロード\n",
    "%cd ~/\n",
    "! git clone https://github.com/cmd-gunma-univ/DX-highschool.git\n",
    "%cd DX-highschool\n",
    "! mv yolo_2025 ~/\n",
    "%cd ~\n",
    "! rm -rf DX-highschool"
   ]
  },
  {
   "cell_type": "code",
   "execution_count": null,
   "id": "cd1fb8cd-ed7f-4805-98f1-e6cc832837c9",
   "metadata": {},
   "outputs": [],
   "source": [
    "# yolo_2025/yolo_install.shからインストール\n",
    "!bash ./yolo_2025/yolo_install.sh"
   ]
  }
 ],
 "metadata": {
  "kernelspec": {
   "display_name": "Python 3 (ipykernel)",
   "language": "python",
   "name": "python3"
  },
  "language_info": {
   "codemirror_mode": {
    "name": "ipython",
    "version": 3
   },
   "file_extension": ".py",
   "mimetype": "text/x-python",
   "name": "python",
   "nbconvert_exporter": "python",
   "pygments_lexer": "ipython3",
   "version": "3.11.2"
  }
 },
 "nbformat": 4,
 "nbformat_minor": 5
}
